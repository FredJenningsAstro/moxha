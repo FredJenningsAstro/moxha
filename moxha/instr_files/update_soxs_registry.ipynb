{
 "cells": [
  {
   "cell_type": "code",
   "execution_count": 2,
   "id": "bad7bb53-8dfe-484e-aaf1-f85d6c4ff29e",
   "metadata": {},
   "outputs": [
    {
     "name": "stderr",
     "output_type": "stream",
     "text": [
      "soxs : [INFO     ] 2022-11-02 14:39:39,881 Downloading ARF \"xrs_mucal_3x10_0.3eV.arf\" for instrument \"lynx_lxm_ultra\".\n",
      "soxs : [INFO     ] 2022-11-02 14:39:39,886 Downloading RMF \"xrs_mucal_0.3eV.rmf\" for instrument \"lynx_lxm_ultra\".\n",
      "soxs : [INFO     ] 2022-11-02 14:39:39,897 Downloading instrumental background model \"lynx_lxm_ultra_particle_bkgnd.pha\" for instrument \"lynx_lxm_ultra\".\n",
      "soxs : [INFO     ] 2022-11-02 14:39:39,900 Downloading PSF model \"chandra_psf.fits\" for instrument \"lynx_lxm_ultra\".\n",
      "soxs : [INFO     ] 2022-11-02 14:39:39,954 Downloading ARF \"acisi_aimpt_cy0.arf\" for instrument \"chandra_acisi_cy0\".\n",
      "soxs : [INFO     ] 2022-11-02 14:39:39,956 Downloading RMF \"acisi_aimpt_cy0.rmf\" for instrument \"chandra_acisi_cy0\".\n",
      "soxs : [INFO     ] 2022-11-02 14:39:39,966 Downloading instrumental background model \"chandra_acisi_cy0_particle_bkgnd.pha\" for instrument \"chandra_acisi_cy0\".\n",
      "soxs : [INFO     ] 2022-11-02 14:39:39,968 Downloading PSF model \"chandra_psf.fits\" for instrument \"chandra_acisi_cy0\".\n",
      "soxs : [INFO     ] 2022-11-02 14:39:40,020 Downloading ARF \"acisi_aimpt_cy22.arf\" for instrument \"chandra_acisi_cy22\".\n",
      "soxs : [INFO     ] 2022-11-02 14:39:40,023 Downloading RMF \"acisi_aimpt_cy22.rmf\" for instrument \"chandra_acisi_cy22\".\n",
      "soxs : [INFO     ] 2022-11-02 14:39:40,034 Downloading instrumental background model \"chandra_acisi_cy22_particle_bkgnd.pha\" for instrument \"chandra_acisi_cy22\".\n",
      "soxs : [INFO     ] 2022-11-02 14:39:40,036 Downloading PSF model \"chandra_psf.fits\" for instrument \"chandra_acisi_cy22\".\n"
     ]
    },
    {
     "name": "stdout",
     "output_type": "stream",
     "text": [
      "dict_keys(['lynx_hdxi', 'lynx_lxm', 'lynx_lxm_enh', 'lynx_lxm_ultra', 'lynx_xgs', 'athena_wfi', 'athena_xifu', 'chandra_acisi_cy0', 'chandra_acisi_cy22', 'chandra_aciss_cy0', 'chandra_aciss_cy22', 'chandra_aciss_meg_p1_cy0', 'chandra_aciss_meg_p1_cy22', 'chandra_aciss_meg_m1_cy0', 'chandra_aciss_meg_m1_cy22', 'chandra_aciss_heg_p1_cy0', 'chandra_aciss_heg_p1_cy22', 'chandra_aciss_heg_m1_cy0', 'chandra_aciss_heg_m1_cy22', 'xrism_resolve', 'axis', 'star-x', 'lem_2eV', 'lem_0.9eV'])\n",
      "<bound method InstrumentRegistry.items of <soxs.instrument_registry.InstrumentRegistry object at 0x167a2abb0>>\n"
     ]
    },
    {
     "name": "stderr",
     "output_type": "stream",
     "text": [
      "soxs : [INFO     ] 2022-11-02 14:39:40,088 Downloading ARF \"athena_sixte_wfi_wo_filter_v20190122.arf\" for instrument \"athena_wfi\".\n",
      "soxs : [INFO     ] 2022-11-02 14:39:40,092 Downloading RMF \"athena_wfi_sixte_v20150504.rmf\" for instrument \"athena_wfi\".\n",
      "soxs : [INFO     ] 2022-11-02 14:39:40,103 Downloading instrumental background model \"sixte_wfi_particle_bkg_20190829.pha\" for instrument \"athena_wfi\".\n",
      "soxs : [INFO     ] 2022-11-02 14:39:40,105 Downloading PSF model \"athena_psf_15row.fits\" for instrument \"athena_wfi\".\n",
      "soxs : [INFO     ] 2022-11-02 14:39:40,158 Downloading ARF \"sixte_xifu_cc_baselineconf_20180821.arf\" for instrument \"athena_xifu\".\n",
      "soxs : [INFO     ] 2022-11-02 14:39:40,163 Downloading RMF \"XIFU_CC_BASELINECONF_2018_10_10.rmf\" for instrument \"athena_xifu\".\n",
      "soxs : [INFO     ] 2022-11-02 14:39:40,237 Downloading instrumental background model \"xifu_nxb_20181209.pha\" for instrument \"athena_xifu\".\n",
      "soxs : [INFO     ] 2022-11-02 14:39:40,240 Downloading PSF model \"athena_psf_15row.fits\" for instrument \"athena_xifu\".\n",
      "soxs : [INFO     ] 2022-11-02 14:39:40,290 Downloading ARF \"xarm_res_flt_pa_20170818.arf\" for instrument \"xrism_resolve\".\n",
      "Downloading file 'xarm_res_flt_pa_20170818.arf' from 'https://hea-www.cfa.harvard.edu/soxs/soxs_responses/xarm_res_flt_pa_20170818.arf' to '/Users/s2220800/Papers/Paper1/scaling_relations_dev/CODE/instr_files'.\n",
      "100%|████████████████████████████████████████| 406k/406k [00:00<00:00, 595MB/s]\n",
      "soxs : [INFO     ] 2022-11-02 14:39:43,709 Downloading RMF \"xarm_res_h5ev_20170818.rmf\" for instrument \"xrism_resolve\".\n",
      "Downloading file 'xarm_res_h5ev_20170818.rmf' from 'https://hea-www.cfa.harvard.edu/soxs/soxs_responses/xarm_res_h5ev_20170818.rmf' to '/Users/s2220800/Papers/Paper1/scaling_relations_dev/CODE/instr_files'.\n",
      "100%|█████████████████████████████████████| 8.22M/8.22M [00:00<00:00, 13.8GB/s]\n",
      "soxs : [INFO     ] 2022-11-02 14:39:54,377 Downloading instrumental background model \"sxs_nxb_4ev_20110211_1Gs.pha\" for instrument \"xrism_resolve\".\n",
      "Downloading file 'sxs_nxb_4ev_20110211_1Gs.pha' from 'https://hea-www.cfa.harvard.edu/soxs/soxs_responses/sxs_nxb_4ev_20110211_1Gs.pha' to '/Users/s2220800/Papers/Paper1/scaling_relations_dev/CODE/instr_files'.\n",
      "100%|████████████████████████████████████████| 207k/207k [00:00<00:00, 230MB/s]\n",
      "soxs : [INFO     ] 2022-11-02 14:39:56,634 Downloading PSF model \"sxs_psfimage_20140618.fits\" for instrument \"xrism_resolve\".\n",
      "Downloading file 'sxs_psfimage_20140618.fits' from 'https://hea-www.cfa.harvard.edu/soxs/soxs_responses/sxs_psfimage_20140618.fits' to '/Users/s2220800/Papers/Paper1/scaling_relations_dev/CODE/instr_files'.\n",
      "100%|█████████████████████████████████████| 22.9M/22.9M [00:00<00:00, 20.7GB/s]\n"
     ]
    }
   ],
   "source": [
    "import soxs\n",
    "reg = soxs.instrument_registry\n",
    "print(reg.keys())\n",
    "print(reg.items)\n",
    "reg.fetch_files('lynx_lxm_ultra')\n",
    "reg.fetch_files(\"chandra_acisi_cy0\")\n",
    "reg.fetch_files(\"chandra_acisi_cy22\")\n",
    "reg.fetch_files(\"athena_wfi\")\n",
    "reg.fetch_files(\"athena_xifu\")\n",
    "reg.fetch_files(\"xrism_resolve\")"
   ]
  },
  {
   "cell_type": "code",
   "execution_count": null,
   "id": "fec358e0-8001-4dc4-bc27-027d23b0c34b",
   "metadata": {},
   "outputs": [],
   "source": []
  }
 ],
 "metadata": {
  "kernelspec": {
   "display_name": "xrays",
   "language": "python",
   "name": "xrays"
  },
  "language_info": {
   "codemirror_mode": {
    "name": "ipython",
    "version": 3
   },
   "file_extension": ".py",
   "mimetype": "text/x-python",
   "name": "python",
   "nbconvert_exporter": "python",
   "pygments_lexer": "ipython3",
   "version": "3.9.13"
  }
 },
 "nbformat": 4,
 "nbformat_minor": 5
}
